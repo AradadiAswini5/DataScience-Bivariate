{
 "cells": [
  {
   "cell_type": "markdown",
   "id": "e7c618c8-b50d-4e58-9e14-a16a6b090cf3",
   "metadata": {},
   "source": [
    "Q1) Replace the NaN values with correct value. And justify why."
   ]
  },
  {
   "cell_type": "code",
   "execution_count": 1,
   "id": "a9f0aa22-a9c4-4a10-8857-51f1d6a3be83",
   "metadata": {},
   "outputs": [],
   "source": [
    "import pandas as pd\n",
    "import numpy as np\n",
    "import matplotlib.pyplot as plt\n",
    "dataset = pd.read_csv(\"Placement_Data_Full_Class.csv\")"
   ]
  },
  {
   "cell_type": "code",
   "execution_count": 2,
   "id": "538f3eb1-28b7-47f6-9532-de5048bfe951",
   "metadata": {},
   "outputs": [
    {
     "data": {
      "text/plain": [
       "sl_no              2\n",
       "gender             2\n",
       "ssc_p              2\n",
       "ssc_b              2\n",
       "hsc_p              2\n",
       "hsc_b              2\n",
       "hsc_s              2\n",
       "degree_p           2\n",
       "degree_t           2\n",
       "workex             2\n",
       "etest_p            2\n",
       "specialisation     2\n",
       "mba_p              2\n",
       "status             2\n",
       "salary            69\n",
       "dtype: int64"
      ]
     },
     "execution_count": 2,
     "metadata": {},
     "output_type": "execute_result"
    }
   ],
   "source": [
    "# Check for missing values\n",
    "dataset.isnull().sum()"
   ]
  },
  {
   "cell_type": "code",
   "execution_count": 3,
   "id": "ce8dfd66-3b6f-4749-96a1-6850b7954017",
   "metadata": {},
   "outputs": [],
   "source": [
    "dataset.drop('sl_no',inplace=True,axis=1)"
   ]
  },
  {
   "cell_type": "code",
   "execution_count": 4,
   "id": "bc065592-8825-4124-b719-bc91add8281d",
   "metadata": {},
   "outputs": [
    {
     "data": {
      "text/html": [
       "<div>\n",
       "<style scoped>\n",
       "    .dataframe tbody tr th:only-of-type {\n",
       "        vertical-align: middle;\n",
       "    }\n",
       "\n",
       "    .dataframe tbody tr th {\n",
       "        vertical-align: top;\n",
       "    }\n",
       "\n",
       "    .dataframe thead th {\n",
       "        text-align: right;\n",
       "    }\n",
       "</style>\n",
       "<table border=\"1\" class=\"dataframe\">\n",
       "  <thead>\n",
       "    <tr style=\"text-align: right;\">\n",
       "      <th></th>\n",
       "      <th>gender</th>\n",
       "      <th>ssc_p</th>\n",
       "      <th>ssc_b</th>\n",
       "      <th>hsc_p</th>\n",
       "      <th>hsc_b</th>\n",
       "      <th>hsc_s</th>\n",
       "      <th>degree_p</th>\n",
       "      <th>degree_t</th>\n",
       "      <th>workex</th>\n",
       "      <th>etest_p</th>\n",
       "      <th>specialisation</th>\n",
       "      <th>mba_p</th>\n",
       "      <th>status</th>\n",
       "      <th>salary</th>\n",
       "    </tr>\n",
       "  </thead>\n",
       "  <tbody>\n",
       "    <tr>\n",
       "      <th>0</th>\n",
       "      <td>M</td>\n",
       "      <td>67.00</td>\n",
       "      <td>Others</td>\n",
       "      <td>91.00</td>\n",
       "      <td>Others</td>\n",
       "      <td>Commerce</td>\n",
       "      <td>58.00</td>\n",
       "      <td>Sci&amp;Tech</td>\n",
       "      <td>No</td>\n",
       "      <td>55.0</td>\n",
       "      <td>Mkt&amp;HR</td>\n",
       "      <td>58.80</td>\n",
       "      <td>Placed</td>\n",
       "      <td>270000.0</td>\n",
       "    </tr>\n",
       "    <tr>\n",
       "      <th>1</th>\n",
       "      <td>M</td>\n",
       "      <td>79.33</td>\n",
       "      <td>Central</td>\n",
       "      <td>78.33</td>\n",
       "      <td>Others</td>\n",
       "      <td>Science</td>\n",
       "      <td>77.48</td>\n",
       "      <td>Sci&amp;Tech</td>\n",
       "      <td>Yes</td>\n",
       "      <td>86.5</td>\n",
       "      <td>Mkt&amp;Fin</td>\n",
       "      <td>66.28</td>\n",
       "      <td>Placed</td>\n",
       "      <td>200000.0</td>\n",
       "    </tr>\n",
       "    <tr>\n",
       "      <th>2</th>\n",
       "      <td>M</td>\n",
       "      <td>65.00</td>\n",
       "      <td>Central</td>\n",
       "      <td>68.00</td>\n",
       "      <td>Central</td>\n",
       "      <td>Arts</td>\n",
       "      <td>64.00</td>\n",
       "      <td>Comm&amp;Mgmt</td>\n",
       "      <td>No</td>\n",
       "      <td>75.0</td>\n",
       "      <td>Mkt&amp;Fin</td>\n",
       "      <td>57.80</td>\n",
       "      <td>Placed</td>\n",
       "      <td>250000.0</td>\n",
       "    </tr>\n",
       "    <tr>\n",
       "      <th>3</th>\n",
       "      <td>M</td>\n",
       "      <td>56.00</td>\n",
       "      <td>Central</td>\n",
       "      <td>52.00</td>\n",
       "      <td>Central</td>\n",
       "      <td>Science</td>\n",
       "      <td>52.00</td>\n",
       "      <td>Sci&amp;Tech</td>\n",
       "      <td>No</td>\n",
       "      <td>66.0</td>\n",
       "      <td>Mkt&amp;HR</td>\n",
       "      <td>59.43</td>\n",
       "      <td>Not Placed</td>\n",
       "      <td>NaN</td>\n",
       "    </tr>\n",
       "    <tr>\n",
       "      <th>4</th>\n",
       "      <td>M</td>\n",
       "      <td>85.80</td>\n",
       "      <td>Central</td>\n",
       "      <td>73.60</td>\n",
       "      <td>Central</td>\n",
       "      <td>Commerce</td>\n",
       "      <td>73.30</td>\n",
       "      <td>Comm&amp;Mgmt</td>\n",
       "      <td>No</td>\n",
       "      <td>96.8</td>\n",
       "      <td>Mkt&amp;Fin</td>\n",
       "      <td>55.50</td>\n",
       "      <td>Placed</td>\n",
       "      <td>425000.0</td>\n",
       "    </tr>\n",
       "    <tr>\n",
       "      <th>...</th>\n",
       "      <td>...</td>\n",
       "      <td>...</td>\n",
       "      <td>...</td>\n",
       "      <td>...</td>\n",
       "      <td>...</td>\n",
       "      <td>...</td>\n",
       "      <td>...</td>\n",
       "      <td>...</td>\n",
       "      <td>...</td>\n",
       "      <td>...</td>\n",
       "      <td>...</td>\n",
       "      <td>...</td>\n",
       "      <td>...</td>\n",
       "      <td>...</td>\n",
       "    </tr>\n",
       "    <tr>\n",
       "      <th>212</th>\n",
       "      <td>M</td>\n",
       "      <td>80.60</td>\n",
       "      <td>Others</td>\n",
       "      <td>82.00</td>\n",
       "      <td>Others</td>\n",
       "      <td>Commerce</td>\n",
       "      <td>77.60</td>\n",
       "      <td>Comm&amp;Mgmt</td>\n",
       "      <td>No</td>\n",
       "      <td>91.0</td>\n",
       "      <td>Mkt&amp;Fin</td>\n",
       "      <td>74.49</td>\n",
       "      <td>Placed</td>\n",
       "      <td>400000.0</td>\n",
       "    </tr>\n",
       "    <tr>\n",
       "      <th>213</th>\n",
       "      <td>M</td>\n",
       "      <td>58.00</td>\n",
       "      <td>Others</td>\n",
       "      <td>60.00</td>\n",
       "      <td>Others</td>\n",
       "      <td>Science</td>\n",
       "      <td>72.00</td>\n",
       "      <td>Sci&amp;Tech</td>\n",
       "      <td>No</td>\n",
       "      <td>74.0</td>\n",
       "      <td>Mkt&amp;Fin</td>\n",
       "      <td>53.62</td>\n",
       "      <td>Placed</td>\n",
       "      <td>275000.0</td>\n",
       "    </tr>\n",
       "    <tr>\n",
       "      <th>214</th>\n",
       "      <td>M</td>\n",
       "      <td>67.00</td>\n",
       "      <td>Others</td>\n",
       "      <td>67.00</td>\n",
       "      <td>Others</td>\n",
       "      <td>Commerce</td>\n",
       "      <td>73.00</td>\n",
       "      <td>Comm&amp;Mgmt</td>\n",
       "      <td>Yes</td>\n",
       "      <td>59.0</td>\n",
       "      <td>Mkt&amp;Fin</td>\n",
       "      <td>69.72</td>\n",
       "      <td>Placed</td>\n",
       "      <td>295000.0</td>\n",
       "    </tr>\n",
       "    <tr>\n",
       "      <th>215</th>\n",
       "      <td>F</td>\n",
       "      <td>74.00</td>\n",
       "      <td>Others</td>\n",
       "      <td>66.00</td>\n",
       "      <td>Others</td>\n",
       "      <td>Commerce</td>\n",
       "      <td>58.00</td>\n",
       "      <td>Comm&amp;Mgmt</td>\n",
       "      <td>No</td>\n",
       "      <td>70.0</td>\n",
       "      <td>Mkt&amp;HR</td>\n",
       "      <td>60.23</td>\n",
       "      <td>Placed</td>\n",
       "      <td>204000.0</td>\n",
       "    </tr>\n",
       "    <tr>\n",
       "      <th>216</th>\n",
       "      <td>M</td>\n",
       "      <td>62.00</td>\n",
       "      <td>Central</td>\n",
       "      <td>58.00</td>\n",
       "      <td>Others</td>\n",
       "      <td>Science</td>\n",
       "      <td>53.00</td>\n",
       "      <td>Comm&amp;Mgmt</td>\n",
       "      <td>No</td>\n",
       "      <td>89.0</td>\n",
       "      <td>Mkt&amp;HR</td>\n",
       "      <td>60.22</td>\n",
       "      <td>Not Placed</td>\n",
       "      <td>NaN</td>\n",
       "    </tr>\n",
       "  </tbody>\n",
       "</table>\n",
       "<p>217 rows × 14 columns</p>\n",
       "</div>"
      ],
      "text/plain": [
       "    gender  ssc_p    ssc_b  hsc_p    hsc_b     hsc_s  degree_p   degree_t  \\\n",
       "0        M  67.00   Others  91.00   Others  Commerce     58.00   Sci&Tech   \n",
       "1        M  79.33  Central  78.33   Others   Science     77.48   Sci&Tech   \n",
       "2        M  65.00  Central  68.00  Central      Arts     64.00  Comm&Mgmt   \n",
       "3        M  56.00  Central  52.00  Central   Science     52.00   Sci&Tech   \n",
       "4        M  85.80  Central  73.60  Central  Commerce     73.30  Comm&Mgmt   \n",
       "..     ...    ...      ...    ...      ...       ...       ...        ...   \n",
       "212      M  80.60   Others  82.00   Others  Commerce     77.60  Comm&Mgmt   \n",
       "213      M  58.00   Others  60.00   Others   Science     72.00   Sci&Tech   \n",
       "214      M  67.00   Others  67.00   Others  Commerce     73.00  Comm&Mgmt   \n",
       "215      F  74.00   Others  66.00   Others  Commerce     58.00  Comm&Mgmt   \n",
       "216      M  62.00  Central  58.00   Others   Science     53.00  Comm&Mgmt   \n",
       "\n",
       "    workex  etest_p specialisation  mba_p      status    salary  \n",
       "0       No     55.0         Mkt&HR  58.80      Placed  270000.0  \n",
       "1      Yes     86.5        Mkt&Fin  66.28      Placed  200000.0  \n",
       "2       No     75.0        Mkt&Fin  57.80      Placed  250000.0  \n",
       "3       No     66.0         Mkt&HR  59.43  Not Placed       NaN  \n",
       "4       No     96.8        Mkt&Fin  55.50      Placed  425000.0  \n",
       "..     ...      ...            ...    ...         ...       ...  \n",
       "212     No     91.0        Mkt&Fin  74.49      Placed  400000.0  \n",
       "213     No     74.0        Mkt&Fin  53.62      Placed  275000.0  \n",
       "214    Yes     59.0        Mkt&Fin  69.72      Placed  295000.0  \n",
       "215     No     70.0         Mkt&HR  60.23      Placed  204000.0  \n",
       "216     No     89.0         Mkt&HR  60.22  Not Placed       NaN  \n",
       "\n",
       "[217 rows x 14 columns]"
      ]
     },
     "execution_count": 4,
     "metadata": {},
     "output_type": "execute_result"
    }
   ],
   "source": [
    "dataset"
   ]
  },
  {
   "cell_type": "code",
   "execution_count": 5,
   "id": "9dd81966-0ab1-4ecd-b199-b970d603f771",
   "metadata": {},
   "outputs": [],
   "source": [
    "# Replace NaN in salary with 0 \n",
    "dataset.fillna({\"salary\": 0}, inplace=True)"
   ]
  },
  {
   "cell_type": "code",
   "execution_count": 6,
   "id": "06f98649-9e34-4118-b863-5ea6db442bb0",
   "metadata": {},
   "outputs": [
    {
     "data": {
      "text/plain": [
       "gender            2\n",
       "ssc_p             2\n",
       "ssc_b             2\n",
       "hsc_p             2\n",
       "hsc_b             2\n",
       "hsc_s             2\n",
       "degree_p          2\n",
       "degree_t          2\n",
       "workex            2\n",
       "etest_p           2\n",
       "specialisation    2\n",
       "mba_p             2\n",
       "status            2\n",
       "salary            0\n",
       "dtype: int64"
      ]
     },
     "execution_count": 6,
     "metadata": {},
     "output_type": "execute_result"
    }
   ],
   "source": [
    "dataset.isnull().sum()"
   ]
  },
  {
   "cell_type": "raw",
   "id": "50790654-e99e-41b3-8916-7eac65247ff0",
   "metadata": {},
   "source": [
    "ssc_p, hsc_p, degree_p, mba_p, etest_p are Exam percentages - Continuous numeric - Mean or Median\n",
    "salary\tAnnual salary (only if placed) - Numeric - replace zero\n",
    "salary\tAnnual salary (if placed but missing) - mean/median\n",
    "workex - Yes/No\t- Categorical -\tMode (most frequent) - Use mode (most common category).\n",
    "gender, degree_t, specialisation, status - Categorical - Mode - Replace with most frequent category."
   ]
  },
  {
   "cell_type": "code",
   "execution_count": 7,
   "id": "d0faf683-5be6-46a5-b13d-4c125b5c2217",
   "metadata": {},
   "outputs": [],
   "source": [
    "for col in ['gender', 'degree_t', 'specialisation', 'status', 'workex', 'hsc_b', 'hsc_s', 'ssc_b']:\n",
    "    dataset.fillna({col: dataset[col].mode()[0]}, inplace=True)"
   ]
  },
  {
   "cell_type": "code",
   "execution_count": 8,
   "id": "175eaa43-9956-458b-ad2e-38cd95ee975a",
   "metadata": {},
   "outputs": [
    {
     "data": {
      "text/plain": [
       "gender            0\n",
       "ssc_p             2\n",
       "ssc_b             0\n",
       "hsc_p             2\n",
       "hsc_b             0\n",
       "hsc_s             0\n",
       "degree_p          2\n",
       "degree_t          0\n",
       "workex            0\n",
       "etest_p           2\n",
       "specialisation    0\n",
       "mba_p             2\n",
       "status            0\n",
       "salary            0\n",
       "dtype: int64"
      ]
     },
     "execution_count": 8,
     "metadata": {},
     "output_type": "execute_result"
    }
   ],
   "source": [
    "dataset.isnull().sum()"
   ]
  },
  {
   "cell_type": "code",
   "execution_count": 9,
   "id": "618c18ea-843a-499c-aaf7-74124bee1d70",
   "metadata": {},
   "outputs": [],
   "source": [
    "for col in ['ssc_p', 'hsc_p', 'degree_p', 'mba_p', 'etest_p']:\n",
    "    dataset.fillna({col: dataset[col].median()}, inplace=True)"
   ]
  },
  {
   "cell_type": "code",
   "execution_count": 10,
   "id": "62f559fe-6f82-4e9d-be35-62590533d0e3",
   "metadata": {},
   "outputs": [
    {
     "data": {
      "text/plain": [
       "gender            0\n",
       "ssc_p             0\n",
       "ssc_b             0\n",
       "hsc_p             0\n",
       "hsc_b             0\n",
       "hsc_s             0\n",
       "degree_p          0\n",
       "degree_t          0\n",
       "workex            0\n",
       "etest_p           0\n",
       "specialisation    0\n",
       "mba_p             0\n",
       "status            0\n",
       "salary            0\n",
       "dtype: int64"
      ]
     },
     "execution_count": 10,
     "metadata": {},
     "output_type": "execute_result"
    }
   ],
   "source": [
    "dataset.isnull().sum()"
   ]
  },
  {
   "cell_type": "code",
   "execution_count": 11,
   "id": "7cd3788f-cdbf-4183-97d0-1b736ff096cf",
   "metadata": {},
   "outputs": [],
   "source": [
    "# Use Visualization/Statistics to Choose Mean vs Median"
   ]
  },
  {
   "cell_type": "markdown",
   "id": "b5915562-48b8-4a90-a91f-b5b683093b3d",
   "metadata": {},
   "source": [
    "Q2) How many of them are not placed?"
   ]
  },
  {
   "cell_type": "code",
   "execution_count": 12,
   "id": "212c4e19-fa5b-435b-b397-20e6e9cf254b",
   "metadata": {},
   "outputs": [
    {
     "name": "stdout",
     "output_type": "stream",
     "text": [
      "Number of students not placed: 67\n"
     ]
    }
   ],
   "source": [
    "not_placed_count = dataset[dataset['status'] == 'Not Placed'].shape[0]\n",
    "print(\"Number of students not placed:\", not_placed_count)"
   ]
  },
  {
   "cell_type": "code",
   "execution_count": 13,
   "id": "4a1d4519-ac21-49c8-b276-66215333bd9e",
   "metadata": {},
   "outputs": [],
   "source": [
    "#This gives the count of all students who didn’t get placement.\n",
    "#It helps in understanding the proportion of non-placed candidates in dataset.\n",
    "#.shape attribute returns a tuple of (rows, columns).\n",
    "\n",
    "#Example: if there are 67 students not placed and 10 columns,\n",
    "#.shape will return (67, 10).\n",
    "\n",
    "#.shape[0] This picks the first value (rows) from that tuple.\n",
    "\n",
    "#number of rows = number of not placed students."
   ]
  },
  {
   "cell_type": "markdown",
   "id": "8843215c-1aa2-497c-bb28-49ae7c1448de",
   "metadata": {},
   "source": [
    "Q3) Find the reason for non placement from the dataset?"
   ]
  },
  {
   "cell_type": "code",
   "execution_count": 14,
   "id": "7d8a622f-f218-4d64-982c-47701e85973b",
   "metadata": {},
   "outputs": [
    {
     "name": "stdout",
     "output_type": "stream",
     "text": [
      "\n",
      "Average scores for Placed vs Not Placed:\n",
      "\n"
     ]
    },
    {
     "data": {
      "text/html": [
       "<div>\n",
       "<style scoped>\n",
       "    .dataframe tbody tr th:only-of-type {\n",
       "        vertical-align: middle;\n",
       "    }\n",
       "\n",
       "    .dataframe tbody tr th {\n",
       "        vertical-align: top;\n",
       "    }\n",
       "\n",
       "    .dataframe thead th {\n",
       "        text-align: right;\n",
       "    }\n",
       "</style>\n",
       "<table border=\"1\" class=\"dataframe\">\n",
       "  <thead>\n",
       "    <tr style=\"text-align: right;\">\n",
       "      <th></th>\n",
       "      <th>ssc_p</th>\n",
       "      <th>hsc_p</th>\n",
       "      <th>degree_p</th>\n",
       "      <th>etest_p</th>\n",
       "      <th>mba_p</th>\n",
       "    </tr>\n",
       "    <tr>\n",
       "      <th>status</th>\n",
       "      <th></th>\n",
       "      <th></th>\n",
       "      <th></th>\n",
       "      <th></th>\n",
       "      <th></th>\n",
       "    </tr>\n",
       "  </thead>\n",
       "  <tbody>\n",
       "    <tr>\n",
       "      <th>Not Placed</th>\n",
       "      <td>57.544030</td>\n",
       "      <td>58.395522</td>\n",
       "      <td>61.134179</td>\n",
       "      <td>69.58791</td>\n",
       "      <td>61.612836</td>\n",
       "    </tr>\n",
       "    <tr>\n",
       "      <th>Placed</th>\n",
       "      <td>71.658533</td>\n",
       "      <td>69.860867</td>\n",
       "      <td>68.704000</td>\n",
       "      <td>73.20820</td>\n",
       "      <td>62.571667</td>\n",
       "    </tr>\n",
       "  </tbody>\n",
       "</table>\n",
       "</div>"
      ],
      "text/plain": [
       "                ssc_p      hsc_p   degree_p   etest_p      mba_p\n",
       "status                                                          \n",
       "Not Placed  57.544030  58.395522  61.134179  69.58791  61.612836\n",
       "Placed      71.658533  69.860867  68.704000  73.20820  62.571667"
      ]
     },
     "execution_count": 14,
     "metadata": {},
     "output_type": "execute_result"
    }
   ],
   "source": [
    "print(\"\\nAverage scores for Placed vs Not Placed:\\n\") \n",
    "dataset.groupby('status')[['ssc_p','hsc_p','degree_p','etest_p','mba_p']].mean()"
   ]
  },
  {
   "cell_type": "code",
   "execution_count": 15,
   "id": "cdd5f83c-6500-415f-97f2-f577c72cb5bf",
   "metadata": {},
   "outputs": [],
   "source": [
    "## Compare average scores of placed vs not placed\n",
    "\n",
    "#By comparing averages, we can identify which academic score is lower for “Not Placed” students.\n",
    "\n",
    "#For example, if their etest_p and mba_p are lower — aptitude and MBA performance could be reasons for not getting placed."
   ]
  },
  {
   "cell_type": "markdown",
   "id": "49346308-ce6a-4ebc-b131-a3bdec7e29ff",
   "metadata": {},
   "source": [
    "Q4) What kind of relation between salary and mba_p"
   ]
  },
  {
   "cell_type": "code",
   "execution_count": 16,
   "id": "b95025cd-81ca-41ff-9e20-a9b4796b44aa",
   "metadata": {},
   "outputs": [
    {
     "data": {
      "text/html": [
       "<div>\n",
       "<style scoped>\n",
       "    .dataframe tbody tr th:only-of-type {\n",
       "        vertical-align: middle;\n",
       "    }\n",
       "\n",
       "    .dataframe tbody tr th {\n",
       "        vertical-align: top;\n",
       "    }\n",
       "\n",
       "    .dataframe thead th {\n",
       "        text-align: right;\n",
       "    }\n",
       "</style>\n",
       "<table border=\"1\" class=\"dataframe\">\n",
       "  <thead>\n",
       "    <tr style=\"text-align: right;\">\n",
       "      <th></th>\n",
       "      <th>ssc_p</th>\n",
       "      <th>hsc_p</th>\n",
       "      <th>degree_p</th>\n",
       "      <th>etest_p</th>\n",
       "      <th>mba_p</th>\n",
       "      <th>salary</th>\n",
       "    </tr>\n",
       "  </thead>\n",
       "  <tbody>\n",
       "    <tr>\n",
       "      <th>ssc_p</th>\n",
       "      <td>116.143773</td>\n",
       "      <td>59.793303</td>\n",
       "      <td>42.500971</td>\n",
       "      <td>37.313591</td>\n",
       "      <td>24.309542</td>\n",
       "      <td>8.939584e+05</td>\n",
       "    </tr>\n",
       "    <tr>\n",
       "      <th>hsc_p</th>\n",
       "      <td>59.793303</td>\n",
       "      <td>117.672421</td>\n",
       "      <td>34.501942</td>\n",
       "      <td>35.146789</td>\n",
       "      <td>22.350398</td>\n",
       "      <td>7.587218e+05</td>\n",
       "    </tr>\n",
       "    <tr>\n",
       "      <th>degree_p</th>\n",
       "      <td>42.500971</td>\n",
       "      <td>34.501942</td>\n",
       "      <td>53.650961</td>\n",
       "      <td>21.730156</td>\n",
       "      <td>17.113039</td>\n",
       "      <td>4.614995e+05</td>\n",
       "    </tr>\n",
       "    <tr>\n",
       "      <th>etest_p</th>\n",
       "      <td>37.313591</td>\n",
       "      <td>35.146789</td>\n",
       "      <td>21.730156</td>\n",
       "      <td>174.630176</td>\n",
       "      <td>16.733421</td>\n",
       "      <td>3.826829e+05</td>\n",
       "    </tr>\n",
       "    <tr>\n",
       "      <th>mba_p</th>\n",
       "      <td>24.309542</td>\n",
       "      <td>22.350398</td>\n",
       "      <td>17.113039</td>\n",
       "      <td>16.733421</td>\n",
       "      <td>33.714008</td>\n",
       "      <td>1.255836e+05</td>\n",
       "    </tr>\n",
       "    <tr>\n",
       "      <th>salary</th>\n",
       "      <td>893958.364695</td>\n",
       "      <td>758721.826464</td>\n",
       "      <td>461499.535544</td>\n",
       "      <td>382682.877838</td>\n",
       "      <td>125583.645460</td>\n",
       "      <td>2.409752e+10</td>\n",
       "    </tr>\n",
       "  </tbody>\n",
       "</table>\n",
       "</div>"
      ],
      "text/plain": [
       "                  ssc_p          hsc_p       degree_p        etest_p  \\\n",
       "ssc_p        116.143773      59.793303      42.500971      37.313591   \n",
       "hsc_p         59.793303     117.672421      34.501942      35.146789   \n",
       "degree_p      42.500971      34.501942      53.650961      21.730156   \n",
       "etest_p       37.313591      35.146789      21.730156     174.630176   \n",
       "mba_p         24.309542      22.350398      17.113039      16.733421   \n",
       "salary    893958.364695  758721.826464  461499.535544  382682.877838   \n",
       "\n",
       "                  mba_p        salary  \n",
       "ssc_p         24.309542  8.939584e+05  \n",
       "hsc_p         22.350398  7.587218e+05  \n",
       "degree_p      17.113039  4.614995e+05  \n",
       "etest_p       16.733421  3.826829e+05  \n",
       "mba_p         33.714008  1.255836e+05  \n",
       "salary    125583.645460  2.409752e+10  "
      ]
     },
     "execution_count": 16,
     "metadata": {},
     "output_type": "execute_result"
    }
   ],
   "source": [
    "dataset.cov(numeric_only=True)"
   ]
  },
  {
   "cell_type": "code",
   "execution_count": 17,
   "id": "79d066f6-6ab9-47cd-a76b-55472dc97cdb",
   "metadata": {},
   "outputs": [],
   "source": [
    "#A covariance of 125583.645460 between Salary and MBA percentage indicates covariance is positive\n",
    "#That Salary and mba_p tend to move in the same direction. \n",
    "#When a person's mba_p value is higher than average, their salary also tends to be higher than average. \n",
    "#Similarly, when their mba_p value is lower than average, their salary also tends to be lower than average."
   ]
  },
  {
   "cell_type": "code",
   "execution_count": 18,
   "id": "50132cff-271d-45d3-a7fd-a7722f264952",
   "metadata": {},
   "outputs": [
    {
     "data": {
      "text/html": [
       "<div>\n",
       "<style scoped>\n",
       "    .dataframe tbody tr th:only-of-type {\n",
       "        vertical-align: middle;\n",
       "    }\n",
       "\n",
       "    .dataframe tbody tr th {\n",
       "        vertical-align: top;\n",
       "    }\n",
       "\n",
       "    .dataframe thead th {\n",
       "        text-align: right;\n",
       "    }\n",
       "</style>\n",
       "<table border=\"1\" class=\"dataframe\">\n",
       "  <thead>\n",
       "    <tr style=\"text-align: right;\">\n",
       "      <th></th>\n",
       "      <th>ssc_p</th>\n",
       "      <th>hsc_p</th>\n",
       "      <th>degree_p</th>\n",
       "      <th>etest_p</th>\n",
       "      <th>mba_p</th>\n",
       "      <th>salary</th>\n",
       "    </tr>\n",
       "  </thead>\n",
       "  <tbody>\n",
       "    <tr>\n",
       "      <th>ssc_p</th>\n",
       "      <td>1.000000</td>\n",
       "      <td>0.511467</td>\n",
       "      <td>0.538409</td>\n",
       "      <td>0.262005</td>\n",
       "      <td>0.388484</td>\n",
       "      <td>0.534359</td>\n",
       "    </tr>\n",
       "    <tr>\n",
       "      <th>hsc_p</th>\n",
       "      <td>0.511467</td>\n",
       "      <td>1.000000</td>\n",
       "      <td>0.434228</td>\n",
       "      <td>0.245182</td>\n",
       "      <td>0.354848</td>\n",
       "      <td>0.450567</td>\n",
       "    </tr>\n",
       "    <tr>\n",
       "      <th>degree_p</th>\n",
       "      <td>0.538409</td>\n",
       "      <td>0.434228</td>\n",
       "      <td>1.000000</td>\n",
       "      <td>0.224499</td>\n",
       "      <td>0.402377</td>\n",
       "      <td>0.405879</td>\n",
       "    </tr>\n",
       "    <tr>\n",
       "      <th>etest_p</th>\n",
       "      <td>0.262005</td>\n",
       "      <td>0.245182</td>\n",
       "      <td>0.224499</td>\n",
       "      <td>1.000000</td>\n",
       "      <td>0.218082</td>\n",
       "      <td>0.186549</td>\n",
       "    </tr>\n",
       "    <tr>\n",
       "      <th>mba_p</th>\n",
       "      <td>0.388484</td>\n",
       "      <td>0.354848</td>\n",
       "      <td>0.402377</td>\n",
       "      <td>0.218082</td>\n",
       "      <td>1.000000</td>\n",
       "      <td>0.139329</td>\n",
       "    </tr>\n",
       "    <tr>\n",
       "      <th>salary</th>\n",
       "      <td>0.534359</td>\n",
       "      <td>0.450567</td>\n",
       "      <td>0.405879</td>\n",
       "      <td>0.186549</td>\n",
       "      <td>0.139329</td>\n",
       "      <td>1.000000</td>\n",
       "    </tr>\n",
       "  </tbody>\n",
       "</table>\n",
       "</div>"
      ],
      "text/plain": [
       "             ssc_p     hsc_p  degree_p   etest_p     mba_p    salary\n",
       "ssc_p     1.000000  0.511467  0.538409  0.262005  0.388484  0.534359\n",
       "hsc_p     0.511467  1.000000  0.434228  0.245182  0.354848  0.450567\n",
       "degree_p  0.538409  0.434228  1.000000  0.224499  0.402377  0.405879\n",
       "etest_p   0.262005  0.245182  0.224499  1.000000  0.218082  0.186549\n",
       "mba_p     0.388484  0.354848  0.402377  0.218082  1.000000  0.139329\n",
       "salary    0.534359  0.450567  0.405879  0.186549  0.139329  1.000000"
      ]
     },
     "execution_count": 18,
     "metadata": {},
     "output_type": "execute_result"
    }
   ],
   "source": [
    "dataset.corr(numeric_only=True)"
   ]
  },
  {
   "cell_type": "code",
   "execution_count": 19,
   "id": "99662526-9915-4559-a6fa-c2dad16484ee",
   "metadata": {},
   "outputs": [],
   "source": [
    "#A correlation of 0.139329 between Salary and MBA percentage indicates a very weak, positive linear relationship\n",
    "\n",
    "#The absolute value of 0.139329 is very close to 0, which means there is almost no linear relationship between the two variables."
   ]
  },
  {
   "cell_type": "markdown",
   "id": "f71efc9d-da49-44cd-ad8c-37dc6e3dc6a2",
   "metadata": {},
   "source": [
    "Q5) Which specialization is getting minimum salary?"
   ]
  },
  {
   "cell_type": "code",
   "execution_count": 20,
   "id": "f6821f50-956c-442f-ab55-e5d37264da86",
   "metadata": {},
   "outputs": [
    {
     "data": {
      "text/plain": [
       "specialisation\n",
       "Mkt&Fin    298852.631579\n",
       "Mkt&HR     270377.358491\n",
       "Name: salary, dtype: float64"
      ]
     },
     "execution_count": 20,
     "metadata": {},
     "output_type": "execute_result"
    }
   ],
   "source": [
    "dataset[dataset['salary'] > 0].groupby('specialisation')['salary'].mean()"
   ]
  },
  {
   "cell_type": "code",
   "execution_count": 21,
   "id": "97d13d82-81f5-4cbe-89de-5516be1edefc",
   "metadata": {},
   "outputs": [],
   "source": [
    "#The specialization of Mkt&HR has the lowest mean salary.\n",
    "\n",
    "#Hence Mkt&HR getting minimum salary."
   ]
  },
  {
   "cell_type": "markdown",
   "id": "335febec-7720-40c8-9189-ea661bca1faf",
   "metadata": {},
   "source": [
    "Q6) How many of them getting above 500000 salary?"
   ]
  },
  {
   "cell_type": "code",
   "execution_count": 22,
   "id": "3c1432c4-a1e8-44a6-a067-97142485c0fc",
   "metadata": {},
   "outputs": [
    {
     "name": "stdout",
     "output_type": "stream",
     "text": [
      "Students with salary > 500000: 3\n"
     ]
    }
   ],
   "source": [
    "count_above_5L = dataset[dataset['salary'] > 500000].shape[0]\n",
    "print(\"Students with salary > 500000:\", count_above_5L)"
   ]
  },
  {
   "cell_type": "code",
   "execution_count": 23,
   "id": "17fe56ab-851b-4bf7-96e9-5f054d93bed0",
   "metadata": {},
   "outputs": [],
   "source": [
    "#3 students earning above 500000 salary"
   ]
  },
  {
   "cell_type": "markdown",
   "id": "b82346b9-5c32-4118-b819-3f7f01d8edec",
   "metadata": {},
   "source": [
    "Q7) Test the Analysis of Variance between etest_p and mba_p at signifance level 5%.(Make decision using Hypothesis Testing)"
   ]
  },
  {
   "cell_type": "code",
   "execution_count": 24,
   "id": "f6b19525-cfb5-4340-b4cd-9f1d5aa25274",
   "metadata": {},
   "outputs": [
    {
     "data": {
      "text/plain": [
       "F_onewayResult(statistic=100.33226296639641, pvalue=2.2444909488516516e-21)"
      ]
     },
     "execution_count": 24,
     "metadata": {},
     "output_type": "execute_result"
    }
   ],
   "source": [
    "import scipy.stats as stats\n",
    "\n",
    "stats.f_oneway(dataset['etest_p'],dataset['mba_p'])"
   ]
  },
  {
   "cell_type": "code",
   "execution_count": 25,
   "id": "a5e89ec8-3983-415f-aba1-8651a41a678e",
   "metadata": {},
   "outputs": [],
   "source": [
    "#p value is less than 0.05\n",
    "#Hence reject Null hypothesis and accept Alternate hypothsis\n",
    "#H0- There is no similarity between etest pass mark & mba pass mark. \n",
    "#H1- There is similarity between etest pass mark & mba pass mark. "
   ]
  },
  {
   "cell_type": "markdown",
   "id": "e04bf7fa-ae8f-4703-9c9b-b85ce6c2aa79",
   "metadata": {},
   "source": [
    "Q8) Test the similarity between the degree_t(Sci&Tech) and specialisation(Mkt&HR) with respect to salary at significance level of 5%.(Make decision using Hypothesis Testing)"
   ]
  },
  {
   "cell_type": "code",
   "execution_count": 26,
   "id": "9f9a880d-557e-4dce-af98-da2b7d6c4287",
   "metadata": {},
   "outputs": [
    {
     "name": "stdout",
     "output_type": "stream",
     "text": [
      "F-value: 7.4768950210499785\n",
      "p-value: 0.007496896218767016\n",
      "Reject Null Hypothesis - There is no similarity between groups\n"
     ]
    }
   ],
   "source": [
    "import scipy.stats as stats\n",
    "\n",
    "sci_tech = dataset[(dataset['degree_t'] == 'Sci&Tech') & (dataset['salary'] > 0)]['salary']\n",
    "mkt_hr = dataset[(dataset['specialisation'] == 'Mkt&HR') & (dataset['salary'] > 0)]['salary']\n",
    "\n",
    "f_stat, p_val = stats.f_oneway(sci_tech, mkt_hr)\n",
    "print(\"F-value:\", f_stat)\n",
    "print(\"p-value:\", p_val)\n",
    "if p_val < 0.05:\n",
    "    print(\"Reject Null Hypothesis - There is no similarity between groups\")\n",
    "else:\n",
    "    print(\"Reject Alternate Hypothesis - There is a similarity between groups\")"
   ]
  },
  {
   "cell_type": "code",
   "execution_count": 27,
   "id": "bd9b48a8-d141-46c2-b911-64d3da3603a4",
   "metadata": {},
   "outputs": [],
   "source": [
    "#At 5% significance:\n",
    "\n",
    "#p < 0.05: There is no similarity between Sci&Tech and Mkt&HR."
   ]
  },
  {
   "cell_type": "code",
   "execution_count": 28,
   "id": "16979153-3dfe-4668-91be-8c9bb20c2e21",
   "metadata": {},
   "outputs": [],
   "source": [
    "#A two-way ANOVA needs:\n",
    "\n",
    "#Two independent variables (factors)\n",
    "#Example:\n",
    "\n",
    "#Factor 1 → degree_t (with multiple levels: Sci&Tech, Comm&Mgmt, Others)\n",
    "\n",
    "#Factor 2 → specialisation (with multiple levels: Mkt&HR, Mkt&Fin)\n",
    "\n",
    "#To perform ANOVA, each factor must have more than one category — otherwise, there’s no “variance between groups” to analyze."
   ]
  },
  {
   "cell_type": "markdown",
   "id": "5b2bea7c-357a-433d-91e0-a8d72059f7d3",
   "metadata": {},
   "source": [
    "Q9) Convert the normal distribution to standard normal distribution for salary column"
   ]
  },
  {
   "cell_type": "code",
   "execution_count": 29,
   "id": "77c716ab-3ca3-42bf-944a-d5e8e4c2a55c",
   "metadata": {},
   "outputs": [
    {
     "name": "stderr",
     "output_type": "stream",
     "text": [
      "C:\\Users\\GOWTHAM\\AppData\\Local\\Temp\\ipykernel_21184\\1216716711.py:11: UserWarning: \n",
      "\n",
      "`distplot` is a deprecated function and will be removed in seaborn v0.14.0.\n",
      "\n",
      "Please adapt your code to use either `displot` (a figure-level function with\n",
      "similar flexibility) or `histplot` (an axes-level function for histograms).\n",
      "\n",
      "For a guide to updating your code to use the new functions, please see\n",
      "https://gist.github.com/mwaskom/de44147ed2974457ad6372750bbe5751\n",
      "\n",
      "  sns.distplot(z_score,kde=True)\n"
     ]
    },
    {
     "data": {
      "image/png": "[encoded data removed]",
      "text/plain": [
       "<Figure size 640x480 with 1 Axes>"
      ]
     },
     "metadata": {},
     "output_type": "display_data"
    }
   ],
   "source": [
    "def stdNBgraph(dataset):\n",
    "        # Coverted to standard Normal Distribution\n",
    "    import seaborn as sns\n",
    "    mean=dataset.mean()\n",
    "    std=dataset.std()\n",
    "\n",
    "    values=[i for i in dataset]\n",
    "\n",
    "    z_score=[((j-mean)/std) for j in values]\n",
    "\n",
    "    sns.distplot(z_score,kde=True)\n",
    "    plt.title(\"Standard Normal Distribution of Salary (Z-score)\")\n",
    "\n",
    "    sum(z_score)/len(z_score)\n",
    "    #z_score.std()\n",
    "\n",
    "stdNBgraph(dataset[\"salary\"])"
   ]
  },
  {
   "cell_type": "raw",
   "id": "c0b4632e-7edb-4c9e-a348-5ae6132a4e44",
   "metadata": {},
   "source": [
    "    ******OR********\n",
    "import seaborn as sns\n",
    "dataset['salary_z'] = (dataset['salary'] - dataset['salary'].mean()) / dataset['salary'].std()\n",
    "sns.histplot(dataset['salary_z'], kde=True)\n",
    "plt.title(\"Standard Normal Distribution of Salary (Z-score)\")\n",
    "plt.xlabel(\"Z-score\")\n",
    "plt.ylabel(\"Frequency\")\n",
    "plt.show()"
   ]
  },
  {
   "cell_type": "code",
   "execution_count": 30,
   "id": "37b94b04-5d4d-4331-92e6-597f88f4bb86",
   "metadata": {},
   "outputs": [],
   "source": [
    "#Z-score normalization converts salary values into a mean of 0 and standard deviation of 1.\n",
    "\n",
    "#It helps compare salaries on a common scale, removing unit differences.\n",
    "\n",
    "#A Z-score of +1 means 1 standard deviation above average salary,\n",
    "#while -1 means below average."
   ]
  },
  {
   "cell_type": "markdown",
   "id": "7eeb3ee6-2383-41fe-95ae-d071ce0c6939",
   "metadata": {},
   "source": [
    "Q10) What is the probability Density Function of the salary range from 700000 to 900000?"
   ]
  },
  {
   "cell_type": "code",
   "execution_count": 31,
   "id": "474d73ac-a479-4dda-9b7a-b8be39ea611c",
   "metadata": {},
   "outputs": [],
   "source": [
    "def get_pdf_probability(dataset,startrange,endrange):\n",
    "    from matplotlib import pyplot\n",
    "    from scipy.stats import norm\n",
    "    import seaborn as sns\n",
    "    ax = sns.distplot(dataset,kde=True,kde_kws={'color':'blue'},color='Green')\n",
    "    pyplot.axvline(startrange,color='Red')\n",
    "    pyplot.axvline(endrange,color='Red')\n",
    "    # generate a sample\n",
    "    sample = dataset\n",
    "    # calculate parameters\n",
    "    sample_mean =sample.mean()\n",
    "    sample_std = sample.std()\n",
    "    print('Mean=%.3f, Standard Deviation=%.3f' % (sample_mean, sample_std))\n",
    "    # define the distribution\n",
    "    dist = norm(sample_mean, sample_std)\n",
    "    \n",
    "    # sample probabilities for a range of outcomes\n",
    "    values = [value for value in range(startrange, endrange)]\n",
    "    probabilities = [dist.pdf(value) for value in values]    \n",
    "    prob=sum(probabilities)\n",
    "    print(\"The area between range({},{}):{}\".format(startrange,endrange,sum(probabilities)))\n",
    "    return prob"
   ]
  },
  {
   "cell_type": "code",
   "execution_count": 32,
   "id": "9a791d84-7721-45e3-a4e1-d9ac9bab8d72",
   "metadata": {},
   "outputs": [
    {
     "name": "stderr",
     "output_type": "stream",
     "text": [
      "C:\\Users\\GOWTHAM\\AppData\\Local\\Temp\\ipykernel_21184\\132380739.py:5: UserWarning: \n",
      "\n",
      "`distplot` is a deprecated function and will be removed in seaborn v0.14.0.\n",
      "\n",
      "Please adapt your code to use either `displot` (a figure-level function with\n",
      "similar flexibility) or `histplot` (an axes-level function for histograms).\n",
      "\n",
      "For a guide to updating your code to use the new functions, please see\n",
      "https://gist.github.com/mwaskom/de44147ed2974457ad6372750bbe5751\n",
      "\n",
      "  ax = sns.distplot(dataset,kde=True,kde_kws={'color':'blue'},color='Green')\n"
     ]
    },
    {
     "name": "stdout",
     "output_type": "stream",
     "text": [
      "Mean=196870.968, Standard Deviation=155233.760\n",
      "The area between range(700000,900000):0.0005923853374033742\n"
     ]
    },
    {
     "data": {
      "text/plain": [
       "0.0005923853374033742"
      ]
     },
     "execution_count": 32,
     "metadata": {},
     "output_type": "execute_result"
    },
    {
     "data": {
      "image/png": "[encoded data removed]",
      "text/plain": [
       "<Figure size 640x480 with 1 Axes>"
      ]
     },
     "metadata": {},
     "output_type": "display_data"
    }
   ],
   "source": [
    "get_pdf_probability(dataset[\"salary\"],700000,900000)"
   ]
  },
  {
   "cell_type": "code",
   "execution_count": 33,
   "id": "d402eefd-eb94-40c2-a05c-7e966af1b4de",
   "metadata": {},
   "outputs": [],
   "source": [
    "#The area under the curve between 700k–900k represents the probability of salaries falling in that range.\n",
    "#PDF is 0.0005923853374033742"
   ]
  },
  {
   "cell_type": "markdown",
   "id": "5362e68d-bbde-4fe2-a86b-d739ceccab02",
   "metadata": {},
   "source": [
    "Q11) Test the similarity between the degree_t(Sci&Tech)with respect to etest_p and mba_p at significance level of 5%.(Make decision using Hypothesis Testing)"
   ]
  },
  {
   "cell_type": "markdown",
   "id": "3918413b-a28a-4509-906e-150cdce49925",
   "metadata": {},
   "source": [
    "Dependant Sample-Paired T_Test Same Group(degree_t(Sci&Tech)) but Different Condition(etest_p,mba_p)"
   ]
  },
  {
   "cell_type": "code",
   "execution_count": 34,
   "id": "792c862e-bbe6-47a5-b959-0a079b397ed8",
   "metadata": {},
   "outputs": [
    {
     "data": {
      "text/plain": [
       "TtestResult(statistic=5.0049844583693615, pvalue=5.517920600505392e-06, df=58)"
      ]
     },
     "execution_count": 34,
     "metadata": {},
     "output_type": "execute_result"
    }
   ],
   "source": [
    "from scipy.stats import ttest_rel\n",
    "degree = dataset[dataset['degree_t']=='Sci&Tech']['etest_p']\n",
    "degree1 = dataset[dataset['degree_t']=='Sci&Tech']['mba_p']\n",
    "ttest_rel(degree, degree1)"
   ]
  },
  {
   "cell_type": "code",
   "execution_count": 35,
   "id": "254101fb-f81e-48c8-b0a9-4b2db4ea256b",
   "metadata": {},
   "outputs": [],
   "source": [
    "#At 5% significance:\n",
    "\n",
    "#p < 0.05: There is no similarity between degree_t with repect to etest pass mark & mba pass mark"
   ]
  },
  {
   "cell_type": "markdown",
   "id": "7357a90e-4623-4579-9307-55b2354a400c",
   "metadata": {},
   "source": [
    "Q12) Which parameter is highly correlated with salary?"
   ]
  },
  {
   "cell_type": "code",
   "execution_count": 36,
   "id": "604700f3-0c05-4f73-80b2-6c565a80669a",
   "metadata": {},
   "outputs": [
    {
     "data": {
      "text/html": [
       "<div>\n",
       "<style scoped>\n",
       "    .dataframe tbody tr th:only-of-type {\n",
       "        vertical-align: middle;\n",
       "    }\n",
       "\n",
       "    .dataframe tbody tr th {\n",
       "        vertical-align: top;\n",
       "    }\n",
       "\n",
       "    .dataframe thead th {\n",
       "        text-align: right;\n",
       "    }\n",
       "</style>\n",
       "<table border=\"1\" class=\"dataframe\">\n",
       "  <thead>\n",
       "    <tr style=\"text-align: right;\">\n",
       "      <th></th>\n",
       "      <th>ssc_p</th>\n",
       "      <th>hsc_p</th>\n",
       "      <th>degree_p</th>\n",
       "      <th>etest_p</th>\n",
       "      <th>mba_p</th>\n",
       "      <th>salary</th>\n",
       "    </tr>\n",
       "  </thead>\n",
       "  <tbody>\n",
       "    <tr>\n",
       "      <th>ssc_p</th>\n",
       "      <td>1.000000</td>\n",
       "      <td>0.511467</td>\n",
       "      <td>0.538409</td>\n",
       "      <td>0.262005</td>\n",
       "      <td>0.388484</td>\n",
       "      <td>0.534359</td>\n",
       "    </tr>\n",
       "    <tr>\n",
       "      <th>hsc_p</th>\n",
       "      <td>0.511467</td>\n",
       "      <td>1.000000</td>\n",
       "      <td>0.434228</td>\n",
       "      <td>0.245182</td>\n",
       "      <td>0.354848</td>\n",
       "      <td>0.450567</td>\n",
       "    </tr>\n",
       "    <tr>\n",
       "      <th>degree_p</th>\n",
       "      <td>0.538409</td>\n",
       "      <td>0.434228</td>\n",
       "      <td>1.000000</td>\n",
       "      <td>0.224499</td>\n",
       "      <td>0.402377</td>\n",
       "      <td>0.405879</td>\n",
       "    </tr>\n",
       "    <tr>\n",
       "      <th>etest_p</th>\n",
       "      <td>0.262005</td>\n",
       "      <td>0.245182</td>\n",
       "      <td>0.224499</td>\n",
       "      <td>1.000000</td>\n",
       "      <td>0.218082</td>\n",
       "      <td>0.186549</td>\n",
       "    </tr>\n",
       "    <tr>\n",
       "      <th>mba_p</th>\n",
       "      <td>0.388484</td>\n",
       "      <td>0.354848</td>\n",
       "      <td>0.402377</td>\n",
       "      <td>0.218082</td>\n",
       "      <td>1.000000</td>\n",
       "      <td>0.139329</td>\n",
       "    </tr>\n",
       "    <tr>\n",
       "      <th>salary</th>\n",
       "      <td>0.534359</td>\n",
       "      <td>0.450567</td>\n",
       "      <td>0.405879</td>\n",
       "      <td>0.186549</td>\n",
       "      <td>0.139329</td>\n",
       "      <td>1.000000</td>\n",
       "    </tr>\n",
       "  </tbody>\n",
       "</table>\n",
       "</div>"
      ],
      "text/plain": [
       "             ssc_p     hsc_p  degree_p   etest_p     mba_p    salary\n",
       "ssc_p     1.000000  0.511467  0.538409  0.262005  0.388484  0.534359\n",
       "hsc_p     0.511467  1.000000  0.434228  0.245182  0.354848  0.450567\n",
       "degree_p  0.538409  0.434228  1.000000  0.224499  0.402377  0.405879\n",
       "etest_p   0.262005  0.245182  0.224499  1.000000  0.218082  0.186549\n",
       "mba_p     0.388484  0.354848  0.402377  0.218082  1.000000  0.139329\n",
       "salary    0.534359  0.450567  0.405879  0.186549  0.139329  1.000000"
      ]
     },
     "execution_count": 36,
     "metadata": {},
     "output_type": "execute_result"
    }
   ],
   "source": [
    "dataset.corr(numeric_only=True)"
   ]
  },
  {
   "cell_type": "code",
   "execution_count": 37,
   "id": "68a70867-1ee6-4f4b-b6f1-af7e4f1f840e",
   "metadata": {},
   "outputs": [],
   "source": [
    "#The variable with the highest positive correlation is most associated with salary.\n",
    "#salary_z & salary are highly correlated with salary"
   ]
  },
  {
   "cell_type": "markdown",
   "id": "516241e2-2d01-4cea-93a2-fe50017cc4b1",
   "metadata": {},
   "source": [
    "Q13) plot any useful graph and explain it"
   ]
  },
  {
   "cell_type": "code",
   "execution_count": 38,
   "id": "c5ef940e-4202-48c0-a69d-ba6328664f91",
   "metadata": {},
   "outputs": [
    {
     "data": {
      "image/png": "[encoded data removed]",
      "text/plain": [
       "<Figure size 750x750 with 12 Axes>"
      ]
     },
     "metadata": {},
     "output_type": "display_data"
    }
   ],
   "source": [
    "import seaborn as sns\n",
    "sns.pairplot(dataset[['degree_p','mba_p','salary']], diag_kind='kde')\n",
    "plt.savefig(\"my_graph.png\")\n",
    "plt.show()"
   ]
  },
  {
   "cell_type": "raw",
   "id": "3696ffb0-e875-4e7a-bbba-6de156e170aa",
   "metadata": {},
   "source": [
    "#The pairplot shows the relationships between degree_p, mba_p, and salary."
   ]
  },
  {
   "cell_type": "raw",
   "id": "a4c3b921-96a8-43b9-9c0a-b0399fe32066",
   "metadata": {},
   "source": [
    "#This graph is a pair plot, which displays the relationships between three variables: degree_p (degree percentage), mba_p (MBA percentage), and salary. It uses scatter plots to show the pairwise relationships and kernel density estimates (KDEs) to show the distribution of each individual variable. "
   ]
  },
  {
   "cell_type": "raw",
   "id": "f05bb415-006b-4e08-85b1-b2d8e7181c70",
   "metadata": {},
   "source": [
    "Individual Variable Distributions (Diagonal Plots):\n",
    "    degree_p: The distribution is unimodal, centered around 65-70.\n",
    "    mba_p: The distribution is also unimodal, centered around 60-65.\n",
    "    salary: The distribution is bimodal, with a large peak around 200,000 and a smaller, secondary peak around 400,000.\n",
    "\n",
    "\n",
    "Pairwise Relationships (Off-Diagonal Plots):\n",
    "     degree_p vs. mba_p: There appears to be a moderate positive correlation between degree percentage and MBA percentage. As the degree percentage              increases, the MBA percentage tends to increase as well.\n",
    "     degree_p vs. salary: There is a weak positive correlation between degree percentage and salary.The data points are widely scattered.\n",
    "     mba_p vs. salary: There is a weak positive correlation between MBA percentage and salary. The data points are spread out, indicating a loose                relationship."
   ]
  }
 ],
 "metadata": {
  "kernelspec": {
   "display_name": "Python 3 (ipykernel)",
   "language": "python",
   "name": "python3"
  },
  "language_info": {
   "codemirror_mode": {
    "name": "ipython",
    "version": 3
   },
   "file_extension": ".py",
   "mimetype": "text/x-python",
   "name": "python",
   "nbconvert_exporter": "python",
   "pygments_lexer": "ipython3",
   "version": "3.12.9"
  }
 },
 "nbformat": 4,
 "nbformat_minor": 5
}
